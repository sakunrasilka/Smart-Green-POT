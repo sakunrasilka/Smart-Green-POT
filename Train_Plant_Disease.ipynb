{
 "cells": [
  {
   "cell_type": "markdown",
   "id": "118f921b-be41-4216-862a-c633e0f2f07e",
   "metadata": {},
   "source": [
    "## Importing Libraries"
   ]
  },
  {
   "cell_type": "code",
   "execution_count": null,
   "id": "8b21a557-0553-4901-a00f-00beacd92633",
   "metadata": {},
   "outputs": [],
   "source": [
    "import tensorflow as tf\n",
    "import matplotlib.pyplot as plt\n",
    "import pandas as pd\n",
    "import seaborn as sns"
   ]
  },
  {
   "cell_type": "markdown",
   "id": "63c691b1-8fe3-4789-81f8-af0e69fbdca4",
   "metadata": {},
   "source": [
    "## Data Preprocessing"
   ]
  },
  {
   "cell_type": "markdown",
   "id": "c992ae23-e44c-4915-92f0-49fb04a1da25",
   "metadata": {},
   "source": [
    "### Training Image Preprocessing"
   ]
  },
  {
   "cell_type": "code",
   "execution_count": null,
   "id": "47e5e598-6b1f-4f70-a071-7564e0fc4df0",
   "metadata": {},
   "outputs": [],
   "source": [
    "training_set = tf.keras.utils.image_dataset_from_directory(\n",
    "    'train',\n",
    "    labels=\"inferred\",\n",
    "    label_mode=\"categorical\",\n",
    "    class_names=None,\n",
    "    color_mode=\"rgb\",\n",
    "    batch_size=32,\n",
    "    image_size=(128, 128),\n",
    "    shuffle=True,\n",
    "    seed=None,\n",
    "    validation_split=None,\n",
    "    subset=None,\n",
    "    interpolation=\"bilinear\",\n",
    "    follow_links=False,\n",
    "    crop_to_aspect_ratio=False,\n",
    "    pad_to_aspect_ratio=False,\n",
    "    verbose=True,\n",
    ")"
   ]
  },
  {
   "cell_type": "markdown",
   "id": "18d09494-92c0-4d9d-9d5c-b37e490126e1",
   "metadata": {},
   "source": [
    "### Validation Image Preprocessing"
   ]
  },
  {
   "cell_type": "code",
   "execution_count": null,
   "id": "47bfb766-80a3-4b2f-aa7e-0524deae4758",
   "metadata": {},
   "outputs": [],
   "source": [
    "validation_set = tf.keras.utils.image_dataset_from_directory(\n",
    "    'valid',\n",
    "    labels=\"inferred\",\n",
    "    label_mode=\"categorical\",\n",
    "    class_names=None,\n",
    "    color_mode=\"rgb\",\n",
    "    batch_size=32,\n",
    "    image_size=(128, 128),\n",
    "    shuffle=True,\n",
    "    seed=None,\n",
    "    validation_split=None,\n",
    "    subset=None,\n",
    "    interpolation=\"bilinear\",\n",
    "    follow_links=False,\n",
    "    crop_to_aspect_ratio=False,\n",
    "    pad_to_aspect_ratio=False,\n",
    "    verbose=True,\n",
    ")"
   ]
  },
  {
   "cell_type": "code",
   "execution_count": null,
   "id": "ba9a3f7a-2c9e-4a02-b1dd-4cbde565e725",
   "metadata": {
    "scrolled": true
   },
   "outputs": [],
   "source": [
    "training_set"
   ]
  },
  {
   "cell_type": "code",
   "execution_count": null,
   "id": "bc304dc9-309a-4bfb-a4ad-cf75bcf4af2e",
   "metadata": {},
   "outputs": [],
   "source": [
    "for x,y in training_set:\n",
    "    print(x,x.shape)\n",
    "    print(y,y.shape)\n",
    "    break"
   ]
  },
  {
   "cell_type": "markdown",
   "id": "e559420b-f5db-4b67-b2ca-b1e0c68cf693",
   "metadata": {},
   "source": [
    "### To Avoid Overshooting\n",
    "1. Choose small learning rate default 0.001 we are taking 0.0001\n",
    "2. There may be a chance of underfitting, soincrease the number of neurons\n",
    "3. Add more Convolution Layer to extract more features from images there may be possibilty that model may be unable to capture relevant feature or model is confusing due to lack of features so feed with more features\n"
   ]
  },
  {
   "cell_type": "markdown",
   "id": "8862d748-3044-479d-b270-b571979a67ba",
   "metadata": {},
   "source": [
    "## Building Model"
   ]
  },
  {
   "cell_type": "code",
   "execution_count": null,
   "id": "04d55098-5230-4be1-b58f-a24eec2a5188",
   "metadata": {},
   "outputs": [],
   "source": [
    "from tensorflow.keras.layers import Dense,Conv2D,MaxPool2D,Flatten,Dropout\n",
    "from tensorflow.keras.models import Sequential"
   ]
  },
  {
   "cell_type": "code",
   "execution_count": null,
   "id": "887ca2f5-619d-481f-8fcc-4db49aadf8a6",
   "metadata": {},
   "outputs": [],
   "source": [
    "model = Sequential()"
   ]
  },
  {
   "cell_type": "markdown",
   "id": "ae10d122-312f-4bb7-a810-b857d4e2206d",
   "metadata": {},
   "source": [
    "## Building Convoultion Layer"
   ]
  },
  {
   "cell_type": "code",
   "execution_count": null,
   "id": "b38fb5ae-3410-4945-b850-b52c35288818",
   "metadata": {},
   "outputs": [],
   "source": [
    "model.add(Conv2D(filters =32,kernel_size =3,padding='same',activation ='relu',input_shape = [128,128,3]))\n",
    "model.add(Conv2D(filters =32,kernel_size =3,padding='same',activation ='relu'))\n",
    "model.add(MaxPool2D(pool_size =2,strides =2))"
   ]
  },
  {
   "cell_type": "code",
   "execution_count": null,
   "id": "137b1b1e-58ba-48ae-b38e-e329a138013d",
   "metadata": {},
   "outputs": [],
   "source": [
    "model.add(Conv2D(filters =64,kernel_size =3,padding='same',activation ='relu'))\n",
    "model.add(Conv2D(filters =64,kernel_size =3,activation ='relu'))\n",
    "model.add(MaxPool2D(pool_size =2,strides =2))"
   ]
  },
  {
   "cell_type": "code",
   "execution_count": null,
   "id": "6c3a9143-db13-41ff-b818-acfdacb3cdd5",
   "metadata": {},
   "outputs": [],
   "source": [
    "model.add(Conv2D(filters =128,kernel_size =3,padding='same',activation ='relu'))\n",
    "model.add(Conv2D(filters =128,kernel_size =3,activation ='relu'))\n",
    "model.add(MaxPool2D(pool_size =2,strides =2))"
   ]
  },
  {
   "cell_type": "code",
   "execution_count": null,
   "id": "0a812956-7abf-4474-8afc-c8385ea69f35",
   "metadata": {},
   "outputs": [],
   "source": [
    "model.add(Conv2D(filters =256,kernel_size =3,padding='same',activation ='relu'))\n",
    "model.add(Conv2D(filters =256,kernel_size =3,activation ='relu'))\n",
    "model.add(MaxPool2D(pool_size =2,strides =2))"
   ]
  },
  {
   "cell_type": "code",
   "execution_count": null,
   "id": "121b3eb3-4ce3-4c27-a7a7-594468125ca6",
   "metadata": {},
   "outputs": [],
   "source": [
    "model.add(Conv2D(filters =512,kernel_size =3,padding='same',activation ='relu'))\n",
    "model.add(Conv2D(filters =512,kernel_size =3,activation ='relu'))\n",
    "model.add(MaxPool2D(pool_size =2,strides =2))"
   ]
  },
  {
   "cell_type": "code",
   "execution_count": null,
   "id": "4254ad0e-1da5-4635-888a-84fdf4f65e97",
   "metadata": {},
   "outputs": [],
   "source": [
    "model.add(Dropout(0.25)) ##Droping 25% of neurons from layers to avoid overfitting"
   ]
  },
  {
   "cell_type": "code",
   "execution_count": null,
   "id": "7e136979-a5db-4be9-b8f5-7de11dae96eb",
   "metadata": {},
   "outputs": [],
   "source": [
    "model.add(Flatten())"
   ]
  },
  {
   "cell_type": "code",
   "execution_count": null,
   "id": "4f8e2555-c05f-437a-be52-da7d84c6e79d",
   "metadata": {},
   "outputs": [],
   "source": [
    "model.add(Dense(units=1500,activation='relu')) ##increased the number of neurons  by changing units to 15000"
   ]
  },
  {
   "cell_type": "code",
   "execution_count": null,
   "id": "93a8db1b-b0cf-4e57-838b-24f7936ff9fa",
   "metadata": {},
   "outputs": [],
   "source": [
    "model.add(Dropout(0.4))"
   ]
  },
  {
   "cell_type": "code",
   "execution_count": null,
   "id": "45563d0c-234c-476d-964e-096cb8527d24",
   "metadata": {},
   "outputs": [],
   "source": [
    "model.add(Dense(units=38,activation='softmax'))"
   ]
  },
  {
   "cell_type": "markdown",
   "id": "5c388ea4-fbe5-4a89-bae6-6b35cc42f6d9",
   "metadata": {},
   "source": [
    "### Compiling Model"
   ]
  },
  {
   "cell_type": "code",
   "execution_count": null,
   "id": "f3d3cbd9-5c9c-4b73-9b89-13e2f4d96ec8",
   "metadata": {},
   "outputs": [],
   "source": [
    "model.compile(optimizer=tf.keras.optimizers.Adam(\n",
    "    learning_rate=0.0001),loss='categorical_crossentropy',metrics=['accuracy'])"
   ]
  },
  {
   "cell_type": "code",
   "execution_count": null,
   "id": "6e7b4b84-6a67-41ae-abb3-b42b268596c9",
   "metadata": {},
   "outputs": [],
   "source": [
    "model.summary()"
   ]
  },
  {
   "cell_type": "code",
   "execution_count": null,
   "id": "434e6aa7-2014-47d3-8caf-1096f08be6a5",
   "metadata": {},
   "outputs": [],
   "source": []
  },
  {
   "cell_type": "markdown",
   "id": "b5555ee4-2f8f-4cbd-bb4c-10dcb88a5df4",
   "metadata": {},
   "source": [
    "### Model Training"
   ]
  },
  {
   "cell_type": "code",
   "execution_count": null,
   "id": "dc294f4d-0be4-4aa4-982c-1c8d0a052009",
   "metadata": {},
   "outputs": [],
   "source": [
    "training_history = model.fit(x=training_set,validation_data=validation_set,epochs=10)"
   ]
  },
  {
   "cell_type": "markdown",
   "id": "d3a558cd-6879-44dc-abdc-564fa8084de2",
   "metadata": {},
   "source": [
    "### Model Evaluation"
   ]
  },
  {
   "cell_type": "code",
   "execution_count": null,
   "id": "c73d658b-f56f-43b3-a508-a12d9bab7e05",
   "metadata": {},
   "outputs": [],
   "source": [
    "#Model Evaulation on Training set\n",
    "train_loss,train_acc = model.evaluate(training_set)"
   ]
  },
  {
   "cell_type": "code",
   "execution_count": null,
   "id": "770af875-50f7-4a1f-be58-bc298e76fdc7",
   "metadata": {},
   "outputs": [],
   "source": [
    "print(train_loss,train_acc)"
   ]
  },
  {
   "cell_type": "code",
   "execution_count": null,
   "id": "e02ec81a-f8d6-4d34-9bbd-4ba19cfed513",
   "metadata": {},
   "outputs": [],
   "source": [
    "#Model Evaulation on validation set\n",
    "val_loss,val_acc = model.evaluate(validation_set)"
   ]
  },
  {
   "cell_type": "code",
   "execution_count": null,
   "id": "68e3ebb9-7648-4676-90fc-1279ab85fcb5",
   "metadata": {},
   "outputs": [],
   "source": [
    "print(val_loss,val_acc)"
   ]
  },
  {
   "cell_type": "code",
   "execution_count": null,
   "id": "41c8d065-9d88-4d72-a041-0cbfcc8f0680",
   "metadata": {},
   "outputs": [],
   "source": []
  },
  {
   "cell_type": "markdown",
   "id": "8abb9009-471e-49f8-9a44-e471c70bc2cd",
   "metadata": {},
   "source": [
    "### Saving Model"
   ]
  },
  {
   "cell_type": "code",
   "execution_count": null,
   "id": "1f0e531b-069b-4f50-b6c4-d69a5dc984da",
   "metadata": {},
   "outputs": [],
   "source": [
    "model.save(\"trained_model.h5\")"
   ]
  },
  {
   "cell_type": "code",
   "execution_count": null,
   "id": "98b69601-adf1-4812-80b0-3fba16c63c6e",
   "metadata": {},
   "outputs": [],
   "source": [
    "model.save(\"trained_model.keras\")"
   ]
  },
  {
   "cell_type": "code",
   "execution_count": null,
   "id": "6a0b2927-822d-4c31-a0dd-908230f417c3",
   "metadata": {},
   "outputs": [],
   "source": [
    "training_history.history #create a dictionary of 10epoche values of train,validation loss,accuracy"
   ]
  },
  {
   "cell_type": "code",
   "execution_count": null,
   "id": "76bd21e5-86dd-43f9-b455-20c33ab49a44",
   "metadata": {},
   "outputs": [],
   "source": [
    "#Recording History in json\n",
    "import json\n",
    "with open(\"training_hist.json\",\"w\") as f:\n",
    "    json.dump(training_history.history,f)"
   ]
  },
  {
   "cell_type": "code",
   "execution_count": null,
   "id": "9e57e2d2-71f7-440f-93d1-adc2ed11ed43",
   "metadata": {},
   "outputs": [],
   "source": []
  },
  {
   "cell_type": "markdown",
   "id": "639bc7c9-7c13-4cac-abb7-65590ac91eb0",
   "metadata": {},
   "source": [
    "### Accuracy Visualization"
   ]
  },
  {
   "cell_type": "code",
   "execution_count": null,
   "id": "0cdadd48-f3ac-4eda-927a-8680324d28c7",
   "metadata": {},
   "outputs": [],
   "source": []
  },
  {
   "cell_type": "code",
   "execution_count": null,
   "id": "b80a4721-a894-4a79-81fd-635ad16a1072",
   "metadata": {},
   "outputs": [],
   "source": [
    "epochs = range(1, 11)\n",
    "plt.plot(epochs,training_history.history['accuracy'],color='red',label='Training Accuracy')\n",
    "plt.plot(epochs,training_history.history['val_accuracy'],color='blue',label='Validation Accuracy')\n",
    "plt.xlabel(\"No of Epochs\")\n",
    "plt.ylabel(\"Accuracy Result\")\n",
    "plt.title(\"Visualization of Accuracy Result\")\n",
    "plt.legend()\n",
    "plt.show()"
   ]
  },
  {
   "cell_type": "code",
   "execution_count": null,
   "id": "c772578c-e968-42a4-91e4-fe94c04dc0c8",
   "metadata": {},
   "outputs": [],
   "source": []
  },
  {
   "cell_type": "markdown",
   "id": "703c51cc-5122-406b-95f1-2676081167dc",
   "metadata": {},
   "source": [
    "### Some other matrics for model evaluation"
   ]
  },
  {
   "cell_type": "code",
   "execution_count": null,
   "id": "dc79035e-66a7-4a19-af46-0ddd48e66699",
   "metadata": {},
   "outputs": [],
   "source": [
    "class_name = validation_set.class_names\n",
    "class_name"
   ]
  },
  {
   "cell_type": "code",
   "execution_count": null,
   "id": "5a517072-e91a-4b2a-9196-36068ed6dc36",
   "metadata": {},
   "outputs": [],
   "source": []
  }
 ],
 "metadata": {
  "kernelspec": {
   "display_name": "Python 3 (ipykernel)",
   "language": "python",
   "name": "python3"
  },
  "language_info": {
   "codemirror_mode": {
    "name": "ipython",
    "version": 3
   },
   "file_extension": ".py",
   "mimetype": "text/x-python",
   "name": "python",
   "nbconvert_exporter": "python",
   "pygments_lexer": "ipython3",
   "version": "3.11.7"
  }
 },
 "nbformat": 4,
 "nbformat_minor": 5
}
